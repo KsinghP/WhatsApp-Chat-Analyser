{
 "cells": [
  {
   "cell_type": "markdown",
   "metadata": {},
   "source": [
    "### To run this code, enter your directory path and filename in the cell below\n",
    "#### Execute the code by running main() in the cell below the next one"
   ]
  },
  {
   "cell_type": "code",
   "execution_count": 297,
   "metadata": {},
   "outputs": [],
   "source": [
    "def main():\n",
    "    # enter directory and filename; in filename, don't remove \"\\\" and \".txt\" \n",
    "    path = r'your directory path here'\n",
    "    filename = r'\\your filename here.txt'\n",
    "    \n",
    "    text = read_chat(path, filename)\n",
    "    \n",
    "    chat_df = make_df(text)\n",
    "    \n",
    "    calculate_total_proportion(chat_df)\n",
    "    \n",
    "    chat_df1 = calculate_hourly_frequency(chat_df)\n",
    "    \n",
    "    calculate_daily_frequency(chat_df1)\n",
    "    \n",
    "    calculate_monthly_proportion(chat_df1)\n",
    "    \n",
    "    days_without_message(chat_df1)\n",
    "    \n",
    "    calculate_media_shared(chat_df)\n",
    "    \n",
    "    messages_by_date(chat_df)\n",
    "    \n",
    "    calculate_avg_length(chat_df)\n",
    "    \n",
    "    # enter the time elapsed, in minutes, by which you want to define \"first message\"\n",
    "    number_of_minutes = 180\n",
    "    first_message_sender(chat_df1, number_of_minutes)\n",
    "    \n",
    "    # enter number of most common words to be counted\n",
    "    list_of_participants = chat_df['sender'].unique().tolist()\n",
    "    number_of_words = 30\n",
    "    count_common_words(chat_df, list_of_participants, number_of_words)\n",
    "    \n",
    "    count_emojis(chat_df, list_of_participants)"
   ]
  },
  {
   "cell_type": "code",
   "execution_count": 296,
   "metadata": {},
   "outputs": [],
   "source": [
    "import pandas as pd\n",
    "import re\n",
    "import matplotlib.pyplot as plt\n",
    "import seaborn as sns\n",
    "from pandas.plotting import table\n",
    "from collections import defaultdict\n",
    "import operator\n",
    "from collections import Counter\n",
    "import datetime\n",
    "from matplotlib.font_manager import FontProperties\n",
    "\n",
    "main()"
   ]
  },
  {
   "cell_type": "markdown",
   "metadata": {},
   "source": [
    "#### Main code below"
   ]
  },
  {
   "cell_type": "code",
   "execution_count": 298,
   "metadata": {},
   "outputs": [],
   "source": [
    "def read_chat(path, filename):\n",
    "    chat = open(path + filename,  \"r\", encoding=\"utf8\")\n",
    "    text = chat.read()\n",
    "    return text"
   ]
  },
  {
   "cell_type": "code",
   "execution_count": 299,
   "metadata": {},
   "outputs": [],
   "source": [
    "def make_df(text):\n",
    "    # the WA .txt file is in a fixed format, which makes it easy to make a dataframe from it\n",
    "    # the regex below works only for 24-hour format, so make sure you select that format in your phone before exporting the .txt\n",
    "    structure = re.findall(\"(\\d{2}/\\d{2}/\\d{2}),\\s(\\d{2}:\\d{2})\\s-\\s(.*?):(.*)\", text)\n",
    "    chat_df = pd.DataFrame(structure, columns=['date', 'time', 'sender', 'message'])\n",
    "#     print(chat_df.head())\n",
    "    return chat_df"
   ]
  },
  {
   "cell_type": "code",
   "execution_count": 300,
   "metadata": {},
   "outputs": [],
   "source": [
    "# find total messages exchanged, and proportion of messages sent by each participant\n",
    "def calculate_total_proportion(chat_df):\n",
    "    print(\"A total of %s messages have been exchanged\" %(len(chat_df.index)))\n",
    "    print (\"\\n\")\n",
    "    by_person_df = chat_df.groupby(['sender']).size().reset_index(name='messages_by_person').sort_values('messages_by_person', ascending=False)\n",
    "    \n",
    "    ax1 = plt.subplot(121, aspect='equal')\n",
    "    ax1.pie(by_person_df['messages_by_person'], labels = by_person_df['sender'], autopct='%1.1f%%', shadow=True, startangle=90)\n",
    "    ax1.axis('equal')\n",
    "    plt.tight_layout()    \n",
    "    plt.title(\"Share of messages by sender\", bbox={'facecolor':'0.8', 'pad':1})\n",
    "    \n",
    "    # plot table\n",
    "    ax2 = plt.subplot(122)\n",
    "    plt.axis('off')\n",
    "    tbl = table(ax2, by_person_df, colWidths = [0.4, 0.4], loc='center')\n",
    "    tbl.auto_set_font_size(False)\n",
    "    tbl.scale(1, 1)\n",
    "    tbl.set_fontsize(9)\n",
    "    # un-comment the line below to save plot as a png file\n",
    "#     plt.savefig('Total messages and proportion.png')\n",
    "    plt.show()"
   ]
  },
  {
   "cell_type": "code",
   "execution_count": 301,
   "metadata": {},
   "outputs": [],
   "source": [
    "# find proportion of monthly messages sent by each participant\n",
    "def calculate_monthly_proportion(chat_df):\n",
    "\n",
    "    chat_df['month_year'] = chat_df['date'].values.astype('datetime64[M]')\n",
    "    by_month_df = chat_df.groupby(['month_year', 'sender']).size().reset_index(name='messages_by_month_year').sort_values('month_year', ascending = False)\n",
    "    \n",
    "    total_monthly_messages_df = by_month_df.groupby(['month_year'])['messages_by_month_year'].sum().reset_index(name='total_monthly_messages').sort_values('month_year', ascending = False)\n",
    "\n",
    "    merge_df = pd.merge(by_month_df, total_monthly_messages_df, on = 'month_year', how = 'left')\n",
    "    merge_df['proportion_of_messages'] = merge_df['messages_by_month_year']/merge_df['total_monthly_messages']\n",
    "\n",
    "    merge_df_reshaped = merge_df.drop(['messages_by_month_year', 'total_monthly_messages'], axis=1)\n",
    "    merge_df_reshaped = merge_df_reshaped.pivot(index='month_year', columns='sender', values='proportion_of_messages')  \n",
    "    merge_df_reshaped = merge_df_reshaped.fillna(0)\n",
    "    \n",
    "    # area plot\n",
    "    plt.style.use('seaborn')\n",
    "    merge_df_reshaped.plot.area()\n",
    "    plt.xlabel('Sender', fontsize=12)\n",
    "    plt.ylabel('Proportion of total messages sent', fontsize=12)\n",
    "    plt.title('Proportion of messages by month',fontsize=15)\n",
    "\n",
    "    ax = plt.gca()\n",
    "    handles, labels = ax.get_legend_handles_labels()\n",
    "    labels, handles = zip(*sorted(zip(labels, handles), key=lambda t: t[0], reverse=True))\n",
    "    plt.legend(bbox_to_anchor=(1.05, 1), loc=2, borderaxespad=0.)\n",
    "    \n",
    "    # un-comment the line below to save plot as a png file\n",
    "#     plt.savefig('Proportion of monthly messages by user.png')\n",
    "    plt.show()"
   ]
  },
  {
   "cell_type": "code",
   "execution_count": 302,
   "metadata": {},
   "outputs": [],
   "source": [
    "# find frequency of messages by hour of day\n",
    "def calculate_hourly_frequency(chat_df):\n",
    "      chat_df[\"date\"] = pd.to_datetime(chat_df[\"date\"], format='%d/%m/%y')\n",
    "      chat_df['day_of_week'] = chat_df['date'].dt.day_name()\n",
    "      chat_df['time'] = pd.to_timedelta(chat_df['time'] + ':00')\n",
    "      chat_df['hour'] = chat_df['time'].dt.components['hours']\n",
    "      by_hour_df = chat_df.groupby(['hour', 'sender']).size().reset_index(name='messages_by_hour').sort_values('hour', ascending = False)\n",
    "      \n",
    "      plt.figure(figsize=(10, 6))\n",
    "#     sns.lineplot(x=\"time\", y=\"messages_by_hour\", data=by_hour_df).set_title(\"Hourly frequency of messages\")\n",
    "      sns.lineplot(x=\"hour\", hue=\"sender\", y=\"messages_by_hour\", data=by_hour_df).set_title(\"Hourly frequency of messages by sender\")\n",
    "\n",
    "      # un-comment the line below to save plot as a png file   \n",
    "#       plt.savefig('Messages by hour of day.png')\n",
    "      plt.show()\n",
    "    \n",
    "      return chat_df"
   ]
  },
  {
   "cell_type": "code",
   "execution_count": 303,
   "metadata": {},
   "outputs": [],
   "source": [
    "# find frequency of messages by day of week\n",
    "def calculate_daily_frequency(chat_df):\n",
    "    by_day_df = chat_df.groupby(['day_of_week']).size().reset_index(name='messages_by_day')\n",
    "    \n",
    "    days = ['Monday', 'Tuesday', 'Wednesday', 'Thursday', 'Friday', 'Saturday', 'Sunday']\n",
    "    by_day_df['day_of_week'] = pd.Categorical(by_day_df['day_of_week'], categories=days, ordered=True)\n",
    "    by_day_df = by_day_df.sort_values('day_of_week')\n",
    "    \n",
    "    plt.figure(figsize=(10, 6))\n",
    "    sns.barplot(x=\"day_of_week\", y=\"messages_by_day\", data=by_day_df).set_title(\"Daily frequency of messages\")\n",
    "    \n",
    "    # un-comment the line below to save plot as a png file\n",
    "#     plt.savefig('Messages by day of week.png')\n",
    "    plt.show()"
   ]
  },
  {
   "cell_type": "code",
   "execution_count": 304,
   "metadata": {},
   "outputs": [],
   "source": [
    "# find number of days on which not a single message was exchanged \n",
    "def days_without_message(chat_df):\n",
    "    total_days = (chat_df['date'].max() - chat_df['date'].min()).days\n",
    "    print(\"You haven't exchanged a single message on %s days in your %s days of history\" %((total_days - chat_df['date'].nunique()), total_days))"
   ]
  },
  {
   "cell_type": "code",
   "execution_count": 305,
   "metadata": {},
   "outputs": [],
   "source": [
    "# find who sends the first message and how many times\n",
    "# the first message is defined as one sent at least number_of_minutes minutes after the last one\n",
    "def first_message_sender(chat_df, number_of_minutes):\n",
    "    first_message = defaultdict(int)\n",
    "    \n",
    "    chat_df['diff_minutes'] = abs(chat_df['time'] - chat_df['time'].shift(-1)).astype('timedelta64[m]')\n",
    "    \n",
    "    for idx, series in chat_df.iterrows():\n",
    "        if (series['diff_minutes'] > number_of_minutes):\n",
    "           first_message[series['sender']] = first_message[series['sender']] + 1\n",
    "        \n",
    "    first_message = dict(sorted(first_message.items(), key=operator.itemgetter(1),reverse=True))\n",
    "    print(\"The number of times first message was sent by each user:\", first_message)\n",
    "    print(\"\\n\")"
   ]
  },
  {
   "cell_type": "code",
   "execution_count": 306,
   "metadata": {},
   "outputs": [],
   "source": [
    "# find number of media file (photos/videos) shared by each participant\n",
    "def calculate_media_shared(chat_df):\n",
    "    media_df = chat_df[chat_df['message'] == ' <Media omitted>'].groupby(['sender']).size().reset_index(name='number_of_photos_by_sender')\n",
    "    \n",
    "    plt.figure(figsize=(10, 6))\n",
    "    sns.barplot(x = \"sender\", hue=\"sender\", y=\"number_of_photos_by_sender\", data=media_df).set_title(\"Who sent how many media files\")\n",
    "    # un-comment the line below to save plot as a png file\n",
    "#     plt.savefig('Media files by participant.png')\n",
    "    plt.show()"
   ]
  },
  {
   "cell_type": "code",
   "execution_count": 307,
   "metadata": {},
   "outputs": [],
   "source": [
    "# find total messages sent daily since the beginning of the chat\n",
    "def messages_by_date(chat_df):\n",
    "    by_date_df = chat_df.groupby(['date'])['message'].size().reset_index(name='messages_by_day')\n",
    "    plt.figure(figsize=(20, 6))\n",
    "    sns.barplot(x=\"date\", y=\"messages_by_day\", data = by_date_df).set_title(\"Number of messages exchanged daily\")\n",
    "    # un-comment the line below to save plot as a png file\n",
    "#     plt.savefig('Number of daily messages.png')\n",
    "    plt.show()"
   ]
  },
  {
   "cell_type": "code",
   "execution_count": 308,
   "metadata": {},
   "outputs": [],
   "source": [
    "# find average length of messages by each participant, as well as by date\n",
    "def calculate_avg_length(chat_df):\n",
    "    chat_df['length_of_message'] = chat_df[chat_df['message'] != ' <Media omitted>']['message'].apply(lambda x: len(x.split()))\n",
    "    \n",
    "    # average length by sender\n",
    "    avg_length_by_sender = chat_df.groupby(['sender'])['length_of_message'].mean().reset_index(name='avg_message_length(words)')\n",
    "    print(round(avg_length_by_sender))\n",
    "    \n",
    "    # average length by date\n",
    "    avg_length_by_day = chat_df.groupby('date')['length_of_message'].mean().reset_index(name='avg_message_length_by_day')\n",
    "    \n",
    "    # plot average length by day\n",
    "    plt.figure(figsize=(20, 6))\n",
    "    sns.barplot(x=\"date\", y=\"avg_message_length_by_day\", data = avg_length_by_day).set_title(\"Average length of a message\")\n",
    "    \n",
    "    # un-comment the line below to save plot as a png file\n",
    "#     plt.savefig('Average length of messages by day.png')  \n",
    "    \n",
    "    plt.show()"
   ]
  },
  {
   "cell_type": "code",
   "execution_count": 309,
   "metadata": {},
   "outputs": [],
   "source": [
    "# find most common words used by each participant\n",
    "def count_common_words(chat_df, list_of_participants, number_of_words):\n",
    "    for participant in list_of_participants:\n",
    "        common_words = Counter(\" \".join(chat_df[(chat_df[\"sender\"] == participant) & \n",
    "                            (chat_df[\"message\"] != ' <Media omitted>')][\"message\"]).lower().split()).most_common(number_of_words)\n",
    "        print('The most common words used by', participant, 'are', common_words, \"\\n\")\n",
    "        \n",
    "    # un-comment the lines below to save above data as a text file\n",
    "#         f = open('common_words' + sender + '.txt', 'w')\n",
    "#         for t in common_words:   \n",
    "#               f.write(' '.join(str(s) for s in t) + '\\n')\n",
    "#         f.close()"
   ]
  },
  {
   "cell_type": "code",
   "execution_count": 310,
   "metadata": {},
   "outputs": [],
   "source": [
    "# find most common emojis used by each participant\n",
    "def count_emojis(chat_df, list_of_participants):\n",
    "    emojis = defaultdict(int)\n",
    "    \n",
    "    for participant in list_of_participants:\n",
    "        for message in chat_df[chat_df['sender'] == participant]['message']:\n",
    "            for emoji in re.findall(u'[\\U0001f300-\\U0001f650]|[\\u2000-\\u3000]', message):\n",
    "                emojis[emoji] += 1\n",
    "        emojis_ascending = dict(sorted(emojis.items(), key=operator.itemgetter(1),reverse=True))\n",
    "        print (\"emojis used by\", participant, emojis_ascending)\n",
    "        print(\"\\n\")\n",
    "        \n",
    "    # un-comment the lines below to save above data as a text file\n",
    "#         f = open('common_emojis' + sender + '.txt', 'w')\n",
    "#         for t in emojis_ascending:   \n",
    "#               f.write(' '.join(str(s) for s in t) + '\\n')\n",
    "#         f.close()"
   ]
  }
 ],
 "metadata": {
  "kernelspec": {
   "display_name": "Python 3",
   "language": "python",
   "name": "python3"
  },
  "language_info": {
   "codemirror_mode": {
    "name": "ipython",
    "version": 3
   },
   "file_extension": ".py",
   "mimetype": "text/x-python",
   "name": "python",
   "nbconvert_exporter": "python",
   "pygments_lexer": "ipython3",
   "version": "3.7.1"
  }
 },
 "nbformat": 4,
 "nbformat_minor": 2
}
